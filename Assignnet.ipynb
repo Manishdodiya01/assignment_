{
 "cells": [
  {
   "cell_type": "markdown",
   "id": "c1fdb251-f17b-458c-8c06-316646c532f9",
   "metadata": {},
   "source": [
    " Q1. Which keyword is used to create a function? Create a function to return a list of odd numbers in the\n",
    "range of 1 to 25."
   ]
  },
  {
   "cell_type": "markdown",
   "id": "df316798-f30c-4344-bfcd-6d838cc10cdd",
   "metadata": {},
   "source": [
    "def keyword is used to create a function in python ."
   ]
  },
  {
   "cell_type": "code",
   "execution_count": 9,
   "id": "199b3634-650c-486d-bbcf-6fc644042e45",
   "metadata": {},
   "outputs": [],
   "source": [
    "def test1():\n",
    "    l1 = []\n",
    "    for i in range(1,26):\n",
    "        if i % 2 !=0 :\n",
    "            l1.append(i)\n",
    "    return l1"
   ]
  },
  {
   "cell_type": "code",
   "execution_count": 10,
   "id": "d441e7b2-bcc6-4b59-9bc7-7b31b60109e8",
   "metadata": {},
   "outputs": [
    {
     "data": {
      "text/plain": [
       "[1, 3, 5, 7, 9, 11, 13, 15, 17, 19, 21, 23, 25]"
      ]
     },
     "execution_count": 10,
     "metadata": {},
     "output_type": "execute_result"
    }
   ],
   "source": [
    "test1()"
   ]
  },
  {
   "cell_type": "markdown",
   "id": "d5db454d-2682-41ea-b9e8-249fb7f4daf7",
   "metadata": {},
   "source": [
    "Q2. Why *args and **kwargs is used in some functions? Create a function each for *args and **kwargs\n",
    "to demonstrate their use.\n",
    "\n",
    "\n",
    "\n",
    "\n",
    "\n"
   ]
  },
  {
   "cell_type": "markdown",
   "id": "20afe252-0667-4e29-8fd4-2bd7bcbe6d18",
   "metadata": {},
   "source": [
    "In Python, *args and **kwargs are special syntaxes used in function definitions to allow the function to accept a variable number of arguments.\n",
    "\n",
    "*args is used to pass a variable number of non-keyword arguments to a function. The * before args unpacks the arguments into a tuple, allowing you to pass any number of positional arguments. The name args is a convention, but you can choose any valid variable name. Here's an example:"
   ]
  },
  {
   "cell_type": "markdown",
   "id": "974d2ffb-f8d3-43f6-9fec-0553a0ce1ad4",
   "metadata": {},
   "source": [
    "**kwargs is used to pass a variable number of keyword arguments to a function. The ** before kwargs unpacks the arguments into a dictionary, allowing you to pass any number of keyword arguments. Again, the name kwargs is a convention, but you can choose any valid variable name. "
   ]
  },
  {
   "cell_type": "code",
   "execution_count": 11,
   "id": "6d3181aa-9a60-4aec-9e02-261c90d51842",
   "metadata": {},
   "outputs": [],
   "source": [
    "def test2(*args):\n",
    "    return args"
   ]
  },
  {
   "cell_type": "code",
   "execution_count": 12,
   "id": "9c383d3e-513c-4b55-9638-556a2338e1eb",
   "metadata": {},
   "outputs": [
    {
     "data": {
      "text/plain": [
       "(1, 2, 3)"
      ]
     },
     "execution_count": 12,
     "metadata": {},
     "output_type": "execute_result"
    }
   ],
   "source": [
    "test2(1,2,3)"
   ]
  },
  {
   "cell_type": "code",
   "execution_count": 13,
   "id": "30137d7f-00f7-4807-b89f-161101660051",
   "metadata": {},
   "outputs": [
    {
     "data": {
      "text/plain": [
       "(1, 3, 'python', [23, 2344])"
      ]
     },
     "execution_count": 13,
     "metadata": {},
     "output_type": "execute_result"
    }
   ],
   "source": [
    "test2(1,3,\"python\",[23,2344])"
   ]
  },
  {
   "cell_type": "code",
   "execution_count": 14,
   "id": "4e129368-a306-4d7e-82e2-e1f03e3e1e89",
   "metadata": {},
   "outputs": [],
   "source": [
    "def test3(**kwargs):\n",
    "    return kwargs"
   ]
  },
  {
   "cell_type": "code",
   "execution_count": 15,
   "id": "f198a640-40db-4a67-86b5-42ce364b712a",
   "metadata": {},
   "outputs": [
    {
     "data": {
      "text/plain": [
       "{'a': 'name', 'b': 'gender', 'c': 'age'}"
      ]
     },
     "execution_count": 15,
     "metadata": {},
     "output_type": "execute_result"
    }
   ],
   "source": [
    "test3(a = \"name\" , b = \"gender\" , c = \"age\")"
   ]
  },
  {
   "cell_type": "markdown",
   "id": "37d97c8d-2dcf-4dbc-b245-35da29c39011",
   "metadata": {},
   "source": [
    "Q3. What is an iterator in python? Name the method used to initialise the iterator object and the method\n",
    "used for iteration. Use these methods to print the first five elements of the given list [2, 4, 6, 8, 10, 12, 14,\n",
    "16, 18, 20]."
   ]
  },
  {
   "cell_type": "markdown",
   "id": "4eab354e-af75-4276-b545-4604a862eedf",
   "metadata": {},
   "source": [
    "In Python, an iterator is an object that implements the iterator protocol, which consists of two methods: __iter__() and __next__().\n",
    "\n",
    "__iter__(): This method is used to initialize the iterator object. It should return the iterator object itself. It is typically used to perform any setup or initialization required for iteration.\n",
    "\n",
    "__next__(): This method is used to retrieve the next element from the iterator. It should return the next element in the iteration. If there are no more elements, it should raise the StopIteration exception."
   ]
  },
  {
   "cell_type": "code",
   "execution_count": 1,
   "id": "dfad1bee-da6a-4dcb-a542-fbb01a212aa4",
   "metadata": {},
   "outputs": [
    {
     "name": "stdout",
     "output_type": "stream",
     "text": [
      "2\n",
      "4\n",
      "6\n",
      "8\n",
      "10\n"
     ]
    }
   ],
   "source": [
    "list = [2,4,6,8,10,12,14,16,18,20]\n",
    "l = iter(list)\n",
    "\n",
    "for i in range(5):\n",
    "    l1 = next(l)\n",
    "    print(l1)"
   ]
  },
  {
   "cell_type": "markdown",
   "id": "28dc9d4d-90b0-453a-80b8-f9c067bf7a51",
   "metadata": {},
   "source": [
    "Q4. What is a generator function in python? Why yield keyword is used? Give an example of a generator\n",
    "function."
   ]
  },
  {
   "cell_type": "markdown",
   "id": "ba6285c0-550b-404f-a34b-a6304f993ee4",
   "metadata": {},
   "source": [
    "In Python, a generator function is a special type of function that generates an iterator. Instead of using the return statement to return a value and terminate the function, a generator function uses the yield keyword to produce a sequence of values. The yield statement suspends the function's execution and returns a value to the caller, but it retains its internal state. This allows the function to be resumed from where it left off, enabling iteration over a potentially infinite sequence of values.\n",
    "\n",
    "The yield keyword is used in a generator function to define the value(s) that will be produced by the generator. Each time the generator's yield statement is encountered, the generator function's state is saved, and the yielded value is returned to the caller. The next time the generator is iterated, execution resumes from the point immediately after the last yield statement."
   ]
  },
  {
   "cell_type": "code",
   "execution_count": 3,
   "id": "39ae17e6-b35d-485d-af92-04a0c4436059",
   "metadata": {},
   "outputs": [],
   "source": [
    "def test1(x):\n",
    "    a,b = 0 ,1\n",
    "    for i in range(x):\n",
    "        a,b = b , a+b"
   ]
  },
  {
   "cell_type": "code",
   "execution_count": 4,
   "id": "b6e4ee1c-74bc-489d-aa52-47c8382b8837",
   "metadata": {},
   "outputs": [
    {
     "name": "stdout",
     "output_type": "stream",
     "text": [
      "0\n",
      "1\n",
      "2\n",
      "3\n",
      "4\n",
      "5\n",
      "6\n",
      "7\n",
      "8\n",
      "9\n"
     ]
    }
   ],
   "source": [
    "for i in range(10):\n",
    "    print(i)"
   ]
  },
  {
   "cell_type": "markdown",
   "id": "3d962aa9-b7b2-4d57-8c02-12f056842862",
   "metadata": {},
   "source": [
    "Q5. Create a generator function for prime numbers less than 1000. Use the next() method to print the\n",
    "first 20 prime numbers."
   ]
  },
  {
   "cell_type": "code",
   "execution_count": 2,
   "id": "00826d36-b07c-4d4c-a5e0-b6236e436106",
   "metadata": {},
   "outputs": [],
   "source": [
    " def generate_primes():\n",
    "    primes = []\n",
    "    num = 2\n",
    "    while True:\n",
    "        is_prime = True\n",
    "        for prime in primes:\n",
    "            if prime * prime > num:\n",
    "                break\n",
    "            if num % prime == 0:\n",
    "                is_prime = False\n",
    "                break\n",
    "        if is_prime:\n",
    "            primes.append(num)\n",
    "            yield num\n",
    "        num += 1\n",
    "\n",
    "prime_generator = generate_primes()"
   ]
  },
  {
   "cell_type": "code",
   "execution_count": 3,
   "id": "4250845f-41f8-4ea2-a81a-4abd404659e8",
   "metadata": {},
   "outputs": [
    {
     "name": "stdout",
     "output_type": "stream",
     "text": [
      "2\n",
      "3\n",
      "5\n",
      "7\n",
      "11\n",
      "13\n",
      "17\n",
      "19\n",
      "23\n",
      "29\n",
      "31\n",
      "37\n",
      "41\n",
      "43\n",
      "47\n",
      "53\n",
      "59\n",
      "61\n",
      "67\n",
      "71\n"
     ]
    }
   ],
   "source": [
    "# Print the first 20 prime numbers\n",
    "for _ in range(20):\n",
    "    prime = next(prime_generator)\n",
    "    print(prime)\n"
   ]
  },
  {
   "cell_type": "markdown",
   "id": "ea7eb2fc-cb4b-4006-bf40-36cf0aa6fcfe",
   "metadata": {},
   "source": [
    "Q6. Write a python program to print the first 10 Fibonacci numbers using a while loop."
   ]
  },
  {
   "cell_type": "code",
   "execution_count": 4,
   "id": "bccc50ca-7a0f-40ec-a1d0-e4167e8a5cff",
   "metadata": {},
   "outputs": [],
   "source": [
    "count = 10\n",
    "num1, num2 = 0, 1\n",
    "fibonacci_series = []\n",
    "\n",
    "while count > 0:\n",
    "    fibonacci_series.append(num1)\n",
    "    num1, num2 = num2, num1 + num2\n",
    "    count -= 1\n"
   ]
  },
  {
   "cell_type": "code",
   "execution_count": 5,
   "id": "e05d4ada-feb8-4ff8-8ea1-05c6945e02b9",
   "metadata": {},
   "outputs": [
    {
     "name": "stdout",
     "output_type": "stream",
     "text": [
      "The first 10 Fibonacci numbers are:\n",
      "0\n",
      "1\n",
      "1\n",
      "2\n",
      "3\n",
      "5\n",
      "8\n",
      "13\n",
      "21\n",
      "34\n"
     ]
    }
   ],
   "source": [
    "print(\"The first 10 Fibonacci numbers are:\")\n",
    "for num in fibonacci_series:\n",
    "    print(num)"
   ]
  },
  {
   "cell_type": "markdown",
   "id": "35270ef3-e86c-444d-a555-f48fd27860e0",
   "metadata": {},
   "source": [
    "Q7. Write a List Comprehension to iterate through the given string: ‘pwskills’.\n",
    "Expected output: ['p', 'w', 's', 'k', 'i', 'l', 'l', 's']"
   ]
  },
  {
   "cell_type": "code",
   "execution_count": 9,
   "id": "202f6ab8-3ba9-45ac-8220-264101240e9b",
   "metadata": {},
   "outputs": [
    {
     "name": "stdout",
     "output_type": "stream",
     "text": [
      "['p', 'w', 's', 'k', 'i', 'l', 'l', 's']\n"
     ]
    }
   ],
   "source": [
    "a = 'pwskills'\n",
    "result = [char for char in string if char in 'pwskills']\n",
    "print(result)\n"
   ]
  },
  {
   "cell_type": "markdown",
   "id": "6ce6506a-6fa4-4712-97d3-6b9f80ad254f",
   "metadata": {},
   "source": [
    "Q8. Write a python program to check whether a given number is Palindrome or not using a while loop."
   ]
  },
  {
   "cell_type": "code",
   "execution_count": 8,
   "id": "7fc2fe08-6888-478b-94ac-8e13bf46f2f8",
   "metadata": {},
   "outputs": [
    {
     "name": "stdin",
     "output_type": "stream",
     "text": [
      "Enter a number:  20\n"
     ]
    },
    {
     "name": "stdout",
     "output_type": "stream",
     "text": [
      "20 is not a palindrome.\n"
     ]
    }
   ],
   "source": [
    "number = int(input(\"Enter a number: \"))\n",
    "temp = number\n",
    "reverse = 0\n",
    "\n",
    "while temp > 0:\n",
    "    remainder = temp % 10\n",
    "    reverse = (reverse * 10) + remainder\n",
    "    temp //= 10\n",
    "\n",
    "if number == reverse:\n",
    "    print(f\"{number} is a palindrome.\")\n",
    "else:\n",
    "    print(f\"{number} is not a palindrome.\")\n"
   ]
  },
  {
   "cell_type": "markdown",
   "id": "a3c829a8-7e08-4637-a884-402e36490b1a",
   "metadata": {},
   "source": [
    "Q9. Write a code to print odd numbers from 1 to 100 using list comprehension."
   ]
  },
  {
   "cell_type": "code",
   "execution_count": 10,
   "id": "9a40e049-796f-4c5b-9329-6c672f7153e9",
   "metadata": {},
   "outputs": [
    {
     "name": "stdout",
     "output_type": "stream",
     "text": [
      "[1, 3, 5, 7, 9, 11, 13, 15, 17, 19, 21, 23, 25, 27, 29, 31, 33, 35, 37, 39, 41, 43, 45, 47, 49, 51, 53, 55, 57, 59, 61, 63, 65, 67, 69, 71, 73, 75, 77, 79, 81, 83, 85, 87, 89, 91, 93, 95, 97, 99]\n"
     ]
    }
   ],
   "source": [
    "odd_numbers = [num for num in range(1, 101) if num % 2 != 0]\n",
    "\n",
    "print(odd_numbers)\n"
   ]
  },
  {
   "cell_type": "code",
   "execution_count": null,
   "id": "3814796b-8997-4fdf-b3ff-152442e609a8",
   "metadata": {},
   "outputs": [],
   "source": []
  }
 ],
 "metadata": {
  "kernelspec": {
   "display_name": "Python 3 (ipykernel)",
   "language": "python",
   "name": "python3"
  },
  "language_info": {
   "codemirror_mode": {
    "name": "ipython",
    "version": 3
   },
   "file_extension": ".py",
   "mimetype": "text/x-python",
   "name": "python",
   "nbconvert_exporter": "python",
   "pygments_lexer": "ipython3",
   "version": "3.10.8"
  }
 },
 "nbformat": 4,
 "nbformat_minor": 5
}
